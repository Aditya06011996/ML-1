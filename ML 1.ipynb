{
 "cells": [
  {
   "cell_type": "markdown",
   "id": "78d07fd3-f6ed-4365-b942-6fa5aaabc4b4",
   "metadata": {},
   "source": [
    "Q1 - Explain the following with an example:\n",
    "1. Artificial Intelligence\n",
    "2. Machine Learning\n",
    "3.  Deep Learning"
   ]
  },
  {
   "cell_type": "markdown",
   "id": "41a4518f-487b-40aa-9f7a-27ff9192ccfe",
   "metadata": {},
   "source": [
    "Ans - 1. **Artificial Intelligence (AI):**\n",
    "   Artificial Intelligence refers to the field of computer science that aims to create systems or machines capable of performing tasks that typically require human intelligence. These tasks include reasoning, problem-solving, learning, perception, and natural language understanding. AI systems can be designed to mimic human-like intelligence to varying degrees.\n",
    "\n",
    "   *Example:* A chatbot that provides customer support on a website can be considered an example of AI. It uses natural language processing (NLP) algorithms to understand and respond to user inquiries, simulating human-like conversation and problem-solving.\n",
    "\n",
    "2. **Machine Learning (ML):**\n",
    "   Machine Learning is a subset of AI that focuses on the development of algorithms and statistical models that enable computers to learn from and make predictions or decisions based on data. Instead of being explicitly programmed, ML systems learn patterns and information from data, allowing them to improve their performance over time.\n",
    "\n",
    "   *Example:* A spam email filter is a common example of machine learning. It analyzes the content and metadata of emails to classify them as either spam or not spam. As it processes more emails and learns from user feedback, it becomes better at accurately identifying spam messages.\n",
    "\n",
    "3. **Deep Learning:**\n",
    "   Deep Learning is a specialized branch of machine learning that is inspired by the structure and function of the human brain. It involves the use of artificial neural networks, which are composed of layers of interconnected nodes (neurons). Deep Learning is particularly effective for tasks involving large amounts of unstructured data, such as images, text, and audio.\n",
    "\n",
    "   *Example:* Image recognition using convolutional neural networks (CNNs) is a common application of deep learning. These networks are capable of automatically learning features from images and can be used to identify objects, people, or patterns within images. For instance, a deep learning model can classify images of animals into different species, such as cats, dogs, and birds, based on the learned features.\n",
    "\n",
    "In summary, AI is the overarching field that encompasses the development of intelligent systems, while machine learning is a subset of AI that focuses on data-driven learning and prediction. Deep learning, in turn, is a subfield of machine learning that leverages neural networks with multiple layers to handle complex tasks like image and speech recognition. These technologies collectively contribute to the advancement of artificial intelligence."
   ]
  },
  {
   "cell_type": "markdown",
   "id": "ecf5fae1-0419-4eb6-b550-5cd71765a29b",
   "metadata": {},
   "source": [
    "Q2- What is supervised learning? List some examples of supervised learning."
   ]
  },
  {
   "cell_type": "markdown",
   "id": "c566a8dd-3c54-4aaa-b8e9-73317c8e0b6c",
   "metadata": {},
   "source": [
    "Ans - **Supervised learning** is a type of machine learning in which an algorithm learns from labeled training data to make predictions or decisions. In supervised learning, the algorithm is provided with a dataset in which the input data is paired with the corresponding target or output data. The algorithm's goal is to learn a mapping function that can accurately predict the target output for new, unseen input data.\n",
    "\n",
    "Here are some key characteristics of supervised learning:\n",
    "\n",
    "1. **Labeled Data:** In supervised learning, the training dataset consists of pairs of input-output examples, where each input is associated with a known and correct output or label.\n",
    "\n",
    "2. **Training Process:** During the training phase, the algorithm uses this labeled data to adjust its internal parameters or model to minimize the difference between its predictions and the actual labels.\n",
    "\n",
    "3. **Prediction:** Once the model is trained, it can be used to make predictions or classifications on new, unseen data for which the correct labels are not provided.\n",
    "\n",
    "Examples of supervised learning tasks:\n",
    "\n",
    "1. **Image Classification:** Given a dataset of images and their corresponding labels (e.g., cat or dog), a supervised learning algorithm can learn to classify new images into predefined categories.\n",
    "\n",
    "2. **Spam Email Detection:** Supervised learning can be used to train a spam filter that categorizes incoming emails as either spam or not spam based on features extracted from the email content.\n",
    "\n",
    "3. **Handwriting Recognition:** In this task, the algorithm is trained to recognize handwritten characters or words and convert them into machine-readable text.\n",
    "\n",
    "4. **Medical Diagnosis:** Supervised learning can help in diagnosing medical conditions based on patient data, such as symptoms, test results, and patient history.\n",
    "\n",
    "5. **Stock Price Prediction:** Using historical stock price data as input and the corresponding future stock prices as labels, a supervised learning model can predict future stock prices.\n",
    "\n",
    "6. **Language Translation:** In machine translation, a supervised learning model can be trained to translate text from one language to another by learning from parallel text corpora that provide translations for training sentences.\n",
    "\n",
    "7. **Credit Scoring:** Banks and financial institutions use supervised learning to assess the creditworthiness of individuals based on their financial history and other relevant data.\n",
    "\n",
    "8. **Voice Recognition:** In speech recognition systems, supervised learning is used to transcribe spoken words or phrases into text by training on a dataset of audio recordings and corresponding transcriptions.\n",
    "\n",
    "9. **Recommendation Systems:** E-commerce and streaming platforms employ supervised learning to make personalized recommendations to users based on their past interactions and preferences.\n",
    "\n",
    "10. **Weather Forecasting:** Meteorological models use historical weather data and observations to predict future weather conditions, such as temperature, precipitation, and wind speed.\n",
    "\n",
    "These examples illustrate the versatility of supervised learning, as it can be applied to a wide range of tasks across various domains where labeled data is available for training."
   ]
  },
  {
   "cell_type": "markdown",
   "id": "729cd684-3414-4c40-bd1a-9d0822fa6d7c",
   "metadata": {},
   "source": [
    "Q3 What is unsupervised learning? List some example of unsupervised learning."
   ]
  },
  {
   "cell_type": "markdown",
   "id": "ef3c6115-9c2d-4c76-9f27-2612a327e4d7",
   "metadata": {},
   "source": [
    "Ans **Unsupervised learning** is a type of machine learning where the algorithm learns patterns and structures in data without explicit supervision in the form of labeled output. In unsupervised learning, the algorithm explores the inherent structure in the input data to discover hidden patterns, group similar data points, or reduce the dimensionality of the data.\n",
    "\n",
    "Key characteristics of unsupervised learning:\n",
    "\n",
    "1. **No Labeled Output:** Unlike supervised learning, unsupervised learning algorithms work with unlabeled data, meaning there are no target labels provided during the training phase.\n",
    "\n",
    "2. **Exploratory Nature:** Unsupervised learning is often used for exploratory data analysis to uncover underlying patterns, clusters, or relationships within the data.\n",
    "\n",
    "3. **Various Objectives:** Unsupervised learning tasks can have different objectives, such as clustering, dimensionality reduction, density estimation, and anomaly detection.\n",
    "\n",
    "Examples of unsupervised learning tasks:\n",
    "\n",
    "1. **Clustering:** One of the most common unsupervised learning tasks is clustering, where the algorithm groups similar data points together based on their inherent characteristics. K-means clustering is a well-known example, used in customer segmentation, image segmentation, and document grouping.\n",
    "\n",
    "2. **Principal Component Analysis (PCA):** PCA is a dimensionality reduction technique that identifies the most important features or components in the data. It's used in data compression, feature selection, and visualization.\n",
    "\n",
    "3. **Hierarchical Clustering:** This method creates a tree-like structure of clusters, showing how data points can be grouped at different levels of granularity. It is used in taxonomy, image analysis, and network analysis.\n",
    "\n",
    "4. **Density Estimation:** Density estimation algorithms, such as Gaussian Mixture Models (GMM) or Kernel Density Estimation (KDE), model the probability distribution of data points. They are used in anomaly detection, fraud detection, and generative modeling.\n",
    "\n",
    "5. **Topic Modeling:** Techniques like Latent Dirichlet Allocation (LDA) and Non-negative Matrix Factorization (NMF) uncover latent topics in text data, aiding in document categorization and content recommendation.\n",
    "\n",
    "6. **Anomaly Detection:** Unsupervised learning can identify rare or anomalous data points by modeling the normal behavior of the data. Applications include fraud detection in financial transactions and fault detection in industrial processes.\n",
    "\n",
    "7. **Dimensionality Reduction:** Techniques like t-SNE (t-distributed Stochastic Neighbor Embedding) and autoencoders are used to reduce high-dimensional data to a lower-dimensional representation, making it easier to visualize and analyze complex datasets.\n",
    "\n",
    "8. **Image Compression:** Unsupervised learning methods like Singular Value Decomposition (SVD) or autoencoders can be used to compress images while preserving important visual features.\n",
    "\n",
    "9. **Market Basket Analysis:** In retail, unsupervised learning can be applied to discover associations and patterns in customer purchase histories, helping with product recommendation and inventory management.\n",
    "\n",
    "10. **Recommendation Systems:** Collaborative filtering, a technique often used in recommendation systems, clusters users or items based on their interactions or preferences, aiding in personalized recommendations.\n",
    "\n",
    "Unsupervised learning is valuable for tasks where the underlying structure of the data is not known in advance, and it can be used to extract meaningful insights from large and complex datasets."
   ]
  },
  {
   "cell_type": "markdown",
   "id": "302e0443-8983-451e-b945-edd563576cd6",
   "metadata": {},
   "source": [
    "Q 4 What is the difference between AI, ML, DL , and DS?"
   ]
  },
  {
   "cell_type": "markdown",
   "id": "e77a33cd-9754-4738-acd4-41247dfeac20",
   "metadata": {},
   "source": [
    "Ans - AI (Artificial Intelligence), ML (Machine Learning), DL (Deep Learning), and DS (Data Science) are related but distinct fields in the realm of technology and data analysis. Here are the key differences between them:\n",
    "\n",
    "1. **Artificial Intelligence (AI):**\n",
    "   - **Scope:** AI is the broadest field, encompassing the development of systems or machines that can perform tasks requiring human intelligence, such as reasoning, problem-solving, learning, perception, and natural language understanding.\n",
    "   - **Approach:** AI can be achieved through various methods, including rule-based systems, symbolic reasoning, expert systems, and machine learning.\n",
    "   - **Examples:** AI includes both rule-based systems like expert systems (e.g., medical diagnosis systems) and machine learning-based applications like speech recognition, computer vision, and autonomous vehicles.\n",
    "\n",
    "2. **Machine Learning (ML):**\n",
    "   - **Scope:** ML is a subset of AI that focuses on the development of algorithms and models that allow computers to learn from data and make predictions or decisions without being explicitly programmed.\n",
    "   - **Learning:** ML algorithms learn patterns and relationships in data to generalize and make predictions on new, unseen data.\n",
    "   - **Examples:** ML includes applications like spam email filters, recommendation systems, image classification, and natural language processing.\n",
    "\n",
    "3. **Deep Learning (DL):**\n",
    "   - **Scope:** DL is a specialized subfield of ML that uses artificial neural networks with multiple layers (deep neural networks) to model and solve complex tasks, often involving large datasets.\n",
    "   - **Architecture:** DL models are composed of layers of interconnected nodes (neurons) that automatically learn hierarchical features from data.\n",
    "   - **Examples:** DL is widely used in tasks like image recognition (using convolutional neural networks), natural language understanding (using recurrent neural networks), and game playing (e.g., AlphaGo).\n",
    "\n",
    "4. **Data Science (DS):**\n",
    "   - **Scope:** DS is a multidisciplinary field that involves collecting, cleaning, analyzing, and interpreting data to extract insights and make data-driven decisions.\n",
    "   - **Skills:** Data scientists use a combination of domain knowledge, statistical analysis, machine learning, and data visualization techniques to work with data.\n",
    "   - **Examples:** DS encompasses activities like exploratory data analysis, predictive modeling, data mining, and the development of data-driven applications.\n",
    "\n",
    "In summary, AI is the overarching field that aims to create intelligent systems, while ML is a subset of AI focused on learning from data. DL is a specialized branch of ML that uses deep neural networks for complex tasks, and DS is a multidisciplinary field that involves the entire data lifecycle, from data collection to analysis and decision-making. These fields often overlap and complement each other in practical applications."
   ]
  },
  {
   "cell_type": "markdown",
   "id": "4eb99ebc-e84d-4c2b-99e4-b289d0e11919",
   "metadata": {},
   "source": [
    "Q5 What are the main differnces between supervised , unsupervised, and semi-supervised learning?"
   ]
  },
  {
   "cell_type": "markdown",
   "id": "6d00eea1-eba0-430a-b756-8e854d178cd2",
   "metadata": {},
   "source": [
    "Ans - **Supervised Learning, Unsupervised Learning, and Semi-Supervised Learning** are three different approaches in machine learning, each with distinct characteristics and use cases. Here are the main differences between them:\n",
    "\n",
    "1. **Supervised Learning:**\n",
    "   - **Labeled Data:** In supervised learning, the algorithm is trained on a dataset where each data point is paired with a corresponding label or target output. The algorithm learns to map input data to the correct output by minimizing the difference between its predictions and the actual labels.\n",
    "   - **Objective:** The primary objective of supervised learning is to make predictions or classifications on new, unseen data based on the patterns learned during training.\n",
    "   - **Examples:** Image classification, spam email detection, and sentiment analysis are common applications of supervised learning.\n",
    "\n",
    "2. **Unsupervised Learning:**\n",
    "   - **Unlabeled Data:** Unsupervised learning works with unlabeled data, meaning there are no target labels provided during training. The algorithm's goal is to discover patterns, structure, or relationships within the data on its own.\n",
    "   - **Objective:** Unsupervised learning tasks include clustering (grouping similar data points), dimensionality reduction (simplifying the data while preserving important information), density estimation (modeling data distribution), and anomaly detection (identifying rare or unusual data points).\n",
    "   - **Examples:** K-means clustering, principal component analysis (PCA), and Gaussian Mixture Models (GMM) are examples of unsupervised learning techniques.\n",
    "\n",
    "3. **Semi-Supervised Learning:**\n",
    "   - **Mixed Data:** Semi-supervised learning combines elements of both supervised and unsupervised learning. It involves a dataset that includes both labeled and unlabeled data points.\n",
    "   - **Objective:** The primary objective of semi-supervised learning is to improve the performance of a model by leveraging the additional information provided by the small amount of labeled data while also benefiting from the exploration of the unlabeled data's underlying structure.\n",
    "   - **Use Cases:** Semi-supervised learning is valuable when obtaining labeled data is expensive or time-consuming. It's often used in scenarios where only a fraction of the data can be labeled, such as in certain medical diagnosis tasks, text classification, or fraud detection.\n",
    "\n",
    "Key points to consider:\n",
    "- Supervised learning is suitable when you have a clear target variable and labeled data.\n",
    "- Unsupervised learning is used for tasks where the data's underlying structure or patterns need to be discovered.\n",
    "- Semi-supervised learning bridges the gap between supervised and unsupervised learning by combining the advantages of both when labeled data is limited.\n",
    "\n",
    "In practice, the choice of learning approach depends on the specific problem, the availability of labeled data, and the desired outcome. Each approach has its strengths and weaknesses, and the appropriate choice should align with the problem's requirements and constraints."
   ]
  },
  {
   "cell_type": "markdown",
   "id": "376dea45-b9fd-4c9f-889e-ad66fb53fdfa",
   "metadata": {},
   "source": [
    "Q6 What is train, test and validation split? Explain the importance of each term."
   ]
  },
  {
   "cell_type": "markdown",
   "id": "b0b3f531-91b4-4991-a6ce-06abc9a825e8",
   "metadata": {},
   "source": [
    "Ans - **Train, test, and validation split** is a fundamental concept in machine learning and model development. These three subsets of a dataset play crucial roles in the training, evaluation, and validation of machine learning models. Here's an explanation of each term and their importance:\n",
    "\n",
    "1. **Training Set:**\n",
    "   - **What it is:** The training set is a portion of the dataset that is used to train or teach the machine learning model. It contains input data (features) paired with their corresponding target outputs or labels.\n",
    "   - **Importance:** The training set is essential because it is where the model learns patterns, relationships, and dependencies within the data. During training, the model adjusts its internal parameters or weights to minimize the difference between its predictions and the actual labels in the training data. This process allows the model to generalize from the training data and make predictions on new, unseen data.\n",
    "\n",
    "2. **Test Set:**\n",
    "   - **What it is:** The test set is a separate portion of the dataset that is not used during the model training process. It contains input data, but the corresponding target outputs or labels are withheld from the model.\n",
    "   - **Importance:** The test set is crucial for evaluating the model's performance and assessing its ability to make accurate predictions on data it has never seen before. By evaluating the model on the test set, you can estimate its generalization performance, which is an indicator of how well it will perform in real-world applications.\n",
    "\n",
    "3. **Validation Set:**\n",
    "   - **What it is:** The validation set, sometimes referred to as the development set, is an intermediate dataset used during model training and tuning. Like the test set, it contains input data with withheld target outputs.\n",
    "   - **Importance:** The validation set is used to fine-tune hyperparameters, select the best model architecture, and make decisions about the model's configuration. It helps prevent overfitting, a situation where the model performs well on the training data but poorly on unseen data. By assessing the model's performance on the validation set, you can make adjustments to improve its generalization ability.\n",
    "\n",
    "**Importance of Each Term:**\n",
    "\n",
    "- **Training Set:** This is where the model learns from the data and adapts its parameters. Without a good training set, the model will not be able to capture the underlying patterns in the data.\n",
    "\n",
    "- **Test Set:** This is used to assess how well the model can generalize to new, unseen data. It helps you understand the model's real-world performance and identify potential issues like overfitting.\n",
    "\n",
    "- **Validation Set:** This is essential for fine-tuning the model and making important decisions during the model development process. It allows you to experiment with different hyperparameters, evaluate model variations, and select the best-performing model configuration.\n",
    "\n",
    "The key principle behind this split is to ensure that the model's performance is evaluated on data that it has not seen during training. This separation helps in building models that are robust, accurate, and capable of making reliable predictions on new data, which is the ultimate goal in machine learning applications."
   ]
  },
  {
   "cell_type": "markdown",
   "id": "eedd61bd-ea18-4a2f-8c75-017a98e2d5fa",
   "metadata": {},
   "source": [
    "Q7 How can unsupervised learning be used in anomaly detection?"
   ]
  },
  {
   "cell_type": "markdown",
   "id": "e95cca6e-00cb-42c3-9b62-9523e8a26443",
   "metadata": {},
   "source": [
    "Ans - Unsupervised learning can be a powerful approach for anomaly detection because it can identify patterns and structures in data without requiring labeled examples of anomalies. Here's how unsupervised learning can be used for anomaly detection:\n",
    "\n",
    "1. **Data Representation:** Start by representing your data in a suitable format. This might involve preprocessing, normalization, or feature extraction to ensure that the data is in a form that can be effectively analyzed by unsupervised learning algorithms.\n",
    "\n",
    "2. **Choose an Unsupervised Learning Algorithm:**\n",
    "   - **Clustering Algorithms:** Algorithms like K-means, DBSCAN, or hierarchical clustering can be used to group similar data points together. Anomalies are often detected as data points that do not belong to any cluster or belong to very small clusters.\n",
    "   - **Density Estimation:** Techniques like Gaussian Mixture Models (GMM) and Kernel Density Estimation (KDE) model the probability distribution of the data. Data points with low probabilities are potential anomalies.\n",
    "   - **Dimensionality Reduction:** Principal Component Analysis (PCA) or autoencoders can reduce the dimensionality of the data while preserving its important information. Anomalies may become more visible in the reduced-dimensional space.\n",
    "\n",
    "3. **Model Training:**\n",
    "   - For clustering and density estimation methods, train the model on the entire dataset, including both normal and potentially anomalous data.\n",
    "   - For dimensionality reduction, the focus is on capturing the normal data's structure during training.\n",
    "\n",
    "4. **Anomaly Detection:**\n",
    "   - After training, apply the model to new, unseen data.\n",
    "   - For clustering, data points that do not belong to any cluster or belong to very small clusters can be considered anomalies.\n",
    "   - For density estimation, data points with low probability scores are flagged as anomalies.\n",
    "   - In dimensionality reduction, anomalies can be identified by measuring the reconstruction error – data points that are poorly reconstructed are likely anomalies.\n",
    "\n",
    "5. **Threshold Setting:** Depending on the method used, you may need to set a threshold to distinguish between normal and anomalous data points. This threshold is typically determined based on domain knowledge and the desired balance between false positives and false negatives.\n",
    "\n",
    "6. **Continuous Monitoring:** Anomaly detection using unsupervised learning should be a continuous process. As new data becomes available, the model can be updated, and anomaly detection thresholds can be adjusted to adapt to changing patterns and data distributions.\n",
    "\n",
    "Benefits of using unsupervised learning for anomaly detection:\n",
    "\n",
    "- **No Anomaly Labels Required:** Unsupervised learning does not rely on labeled anomaly data, making it suitable for situations where obtaining labeled anomalies is difficult or costly.\n",
    "\n",
    "- **Flexibility:** Unsupervised methods can adapt to different types of anomalies and data distributions, making them versatile for various applications.\n",
    "\n",
    "- **Exploratory Analysis:** Unsupervised learning can uncover unknown or unexpected patterns in data, which can be valuable for understanding and addressing anomalies.\n",
    "\n",
    "However, it's essential to note that unsupervised anomaly detection may produce false positives and may not always distinguish between meaningful anomalies and noise. Therefore, domain knowledge and careful evaluation are crucial for effective anomaly detection using unsupervised learning."
   ]
  },
  {
   "cell_type": "markdown",
   "id": "29b75a8e-d6fe-4dcb-98f9-2d4f7e3cd6ca",
   "metadata": {},
   "source": [
    "Q8 List down some commonly used supervised learning algorithms and unsupervised learning algorithms."
   ]
  },
  {
   "cell_type": "markdown",
   "id": "f7d04fc5-7e11-4268-9683-c8b4fcf2e486",
   "metadata": {},
   "source": [
    "Ans - Certainly! Here are some commonly used supervised learning and unsupervised learning algorithms:\n",
    "\n",
    "**Supervised Learning Algorithms:**\n",
    "\n",
    "1. **Linear Regression:** Used for regression tasks, it models the relationship between input features and a continuous target variable.\n",
    "\n",
    "2. **Logistic Regression:** Used for binary classification problems, it models the probability of an input belonging to a particular class.\n",
    "\n",
    "3. **Decision Trees:** Used for both classification and regression tasks, decision trees create a tree-like structure to make predictions.\n",
    "\n",
    "4. **Random Forest:** An ensemble method that combines multiple decision trees to improve prediction accuracy.\n",
    "\n",
    "5. **Support Vector Machines (SVM):** Used for classification, SVM finds a hyperplane that best separates data into different classes.\n",
    "\n",
    "6. **K-Nearest Neighbors (KNN):** A classification algorithm that assigns a new data point to the majority class among its k-nearest neighbors in the training data.\n",
    "\n",
    "7. **Naive Bayes:** A probabilistic classification algorithm based on Bayes' theorem, commonly used in text classification and spam detection.\n",
    "\n",
    "8. **Neural Networks (Deep Learning):** Multi-layer neural networks, including feedforward and convolutional neural networks, are used for a wide range of tasks, including image and speech recognition.\n",
    "\n",
    "9. **Gradient Boosting:** Algorithms like AdaBoost and Gradient Boosting Machines (GBM) are ensemble methods that combine weak learners to create a strong learner.\n",
    "\n",
    "10. **XGBoost:** A gradient boosting library known for its efficiency and effectiveness in predictive modeling.\n",
    "\n",
    "**Unsupervised Learning Algorithms:**\n",
    "\n",
    "1. **K-Means Clustering:** Divides data into k clusters based on similarity, where k is a user-defined parameter.\n",
    "\n",
    "2. **Hierarchical Clustering:** Creates a tree-like structure of clusters, allowing data to be grouped at various levels of granularity.\n",
    "\n",
    "3. **Principal Component Analysis (PCA):** Reduces the dimensionality of data by finding orthogonal axes that capture the most significant variation.\n",
    "\n",
    "4. **Gaussian Mixture Models (GMM):** A probabilistic model that represents data as a mixture of Gaussian distributions, often used in density estimation and clustering.\n",
    "\n",
    "5. **DBSCAN (Density-Based Spatial Clustering of Applications with Noise):** Clusters data points based on their density in the feature space.\n",
    "\n",
    "6. **Autoencoders:** Neural networks used for dimensionality reduction and feature learning by training to encode and decode input data.\n",
    "\n",
    "7. **Singular Value Decomposition (SVD):** A matrix factorization technique used for dimensionality reduction and recommendation systems.\n",
    "\n",
    "8. **Isolation Forest:** An ensemble method that detects anomalies in data by isolating them in random partitions.\n",
    "\n",
    "9. **t-Distributed Stochastic Neighbor Embedding (t-SNE):** Reduces high-dimensional data to a lower-dimensional space, often used for data visualization.\n",
    "\n",
    "10. **Non-negative Matrix Factorization (NMF):** Decomposes a matrix into two lower-dimensional matrices with non-negative values, useful for topic modeling and feature extraction.\n",
    "\n",
    "These are just a few examples of supervised and unsupervised learning algorithms, and there are many more specialized algorithms and variations designed for specific tasks and data types. The choice of algorithm depends on the nature of the problem and the characteristics of the data being analyzed."
   ]
  },
  {
   "cell_type": "code",
   "execution_count": null,
   "id": "7c46f086-933d-4b0c-980d-a42d82b8c822",
   "metadata": {},
   "outputs": [],
   "source": []
  },
  {
   "cell_type": "code",
   "execution_count": null,
   "id": "695c08fe-7019-4ab2-b906-bbc8bfd17976",
   "metadata": {},
   "outputs": [],
   "source": []
  },
  {
   "cell_type": "code",
   "execution_count": null,
   "id": "8bc7f582-6cc1-4801-b6ef-909fb63a3c76",
   "metadata": {},
   "outputs": [],
   "source": []
  },
  {
   "cell_type": "markdown",
   "id": "617400a5-ae61-4b33-b5f4-4ec085f60c88",
   "metadata": {},
   "source": [
    "."
   ]
  },
  {
   "cell_type": "markdown",
   "id": "c1f19610-ec81-4997-ade5-4678d98c5080",
   "metadata": {},
   "source": []
  }
 ],
 "metadata": {
  "kernelspec": {
   "display_name": "Python 3 (ipykernel)",
   "language": "python",
   "name": "python3"
  },
  "language_info": {
   "codemirror_mode": {
    "name": "ipython",
    "version": 3
   },
   "file_extension": ".py",
   "mimetype": "text/x-python",
   "name": "python",
   "nbconvert_exporter": "python",
   "pygments_lexer": "ipython3",
   "version": "3.10.8"
  }
 },
 "nbformat": 4,
 "nbformat_minor": 5
}
